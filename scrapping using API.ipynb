{
 "cells": [
  {
   "cell_type": "markdown",
   "id": "ec864fb9",
   "metadata": {},
   "source": [
    "###WE WILL BE ACQUIRING DATA USING AN API "
   ]
  },
  {
   "cell_type": "markdown",
   "id": "5cd7602a",
   "metadata": {},
   "source": [
    "There are many methods  of actually scrapping and acquiring data [BeautifulSoup],[Selenium] .actually this is a weather forecasting website \"open weathermap\".form this website we will use an api to actually acquire data such as the city name,temperature ,humidity,and main form of precipitation."
   ]
  },
  {
   "cell_type": "markdown",
   "id": "cd11959f",
   "metadata": {},
   "source": [
    "we will import all the necessary libraries"
   ]
  },
  {
   "cell_type": "code",
   "execution_count": 12,
   "id": "1737e279",
   "metadata": {
    "scrolled": true
   },
   "outputs": [],
   "source": [
    "import requests\n",
    "import json\n",
    "import pandas as pd\n",
    "\n",
    "\n",
    "\n",
    "\n"
   ]
  },
  {
   "cell_type": "markdown",
   "id": "52a820c7",
   "metadata": {},
   "source": [
    "we will then go to the webpage and actually get the api .After we get the api we then can input the list of the cities we \n",
    "actually want to get the data from "
   ]
  },
  {
   "cell_type": "code",
   "execution_count": null,
   "id": "86c60185",
   "metadata": {},
   "outputs": [],
   "source": [
    "api_key = \"18890a1d8cfd1b3130af9ac578d2c1a5\"\n",
    "city_names = [\"New York\", \"Paris\", \"Tokyo\",\"London\",\"Sydney\",\"Beijing\",\"Moscow\",\"Dubai\",\"Singapore\",\"Toronto\",\"Mumbai\",\"Los Angeles\",\n",
    "             \"San Fransisco\",\"Rome\",\"Miami\",\"Barcelona\",\"Berlin\",\"Amsterdam\",\"Vienna\",\"Zurich\"]\n"
   ]
  },
  {
   "cell_type": "markdown",
   "id": "c1cb0ac1",
   "metadata": {},
   "source": [
    "we will run the following code to actualy get all the related info we actually want to acquire"
   ]
  },
  {
   "cell_type": "code",
   "execution_count": null,
   "id": "2d853e7b",
   "metadata": {},
   "outputs": [],
   "source": [
    "for city_name in city_names:\n",
    "    url = f\"https://api.openweathermap.org/data/2.5/weather?q={city_name}&appid={api_key}&units=metric\"\n",
    "\n",
    "    response = requests.get(url)\n",
    "\n",
    "    if response.status_code == 200:\n",
    "        data = json.loads(response.text)\n",
    "        temperature = data['main']['temp']\n",
    "        humidity = data['main']['humidity']\n",
    "        precipitation = data['weather'][0]['main']\n",
    "        print(f\" {city_name} : {temperature}°C.\")\n",
    "        print(f\"{city_name} :{humidity}%.\")\n",
    "        print(f\" {city_name} : {precipitation}.\")\n",
    "  "
   ]
  },
  {
   "cell_type": "markdown",
   "id": "d3d47b1a",
   "metadata": {},
   "source": [
    "we will import pandas sice we want to actually create a dataframe which we can continue and work on our data"
   ]
  },
  {
   "cell_type": "code",
   "execution_count": 8,
   "id": "110a2046",
   "metadata": {},
   "outputs": [
    {
     "name": "stdout",
     "output_type": "stream",
     "text": [
      "             City  Temperature  Humidity Precipitation\n",
      "0        New York         7.29        93        Clouds\n",
      "1           Paris         7.29        93        Clouds\n",
      "2           Tokyo         7.29        93        Clouds\n",
      "3          London         7.29        93        Clouds\n",
      "4          Sydney         7.29        93        Clouds\n",
      "5         Beijing         7.29        93        Clouds\n",
      "6          Moscow         7.29        93        Clouds\n",
      "7           Dubai         7.29        93        Clouds\n",
      "8       Singapore         7.29        93        Clouds\n",
      "9         Toronto         7.29        93        Clouds\n",
      "10         Mumbai         7.29        93        Clouds\n",
      "11    Los Angeles         7.29        93        Clouds\n",
      "12  San Fransisco         7.29        93        Clouds\n",
      "13           Rome         7.29        93        Clouds\n",
      "14          Miami         7.29        93        Clouds\n",
      "15      Barcelona         7.29        93        Clouds\n",
      "16         Berlin         7.29        93        Clouds\n",
      "17      Amsterdam         7.29        93        Clouds\n",
      "18         Vienna         7.29        93        Clouds\n",
      "19         Zurich         7.29        93        Clouds\n"
     ]
    }
   ],
   "source": [
    "data = {'City': city_names, 'Temperature': temperature, 'Humidity': humidity, 'Precipitation': precipitation}\n",
    "\n",
    "# Create a pandas dataframe from the dictionary\n",
    "df = pd.DataFrame(data)\n",
    "\n",
    "# Print the dataframe\n",
    "print(df)"
   ]
  },
  {
   "cell_type": "code",
   "execution_count": 9,
   "id": "bcdf13c3",
   "metadata": {
    "scrolled": false
   },
   "outputs": [
    {
     "data": {
      "text/html": [
       "<div>\n",
       "<style scoped>\n",
       "    .dataframe tbody tr th:only-of-type {\n",
       "        vertical-align: middle;\n",
       "    }\n",
       "\n",
       "    .dataframe tbody tr th {\n",
       "        vertical-align: top;\n",
       "    }\n",
       "\n",
       "    .dataframe thead th {\n",
       "        text-align: right;\n",
       "    }\n",
       "</style>\n",
       "<table border=\"1\" class=\"dataframe\">\n",
       "  <thead>\n",
       "    <tr style=\"text-align: right;\">\n",
       "      <th></th>\n",
       "      <th>City</th>\n",
       "      <th>Temperature</th>\n",
       "      <th>Humidity</th>\n",
       "      <th>Precipitation</th>\n",
       "    </tr>\n",
       "  </thead>\n",
       "  <tbody>\n",
       "    <tr>\n",
       "      <th>0</th>\n",
       "      <td>New York</td>\n",
       "      <td>7.29</td>\n",
       "      <td>93</td>\n",
       "      <td>Clouds</td>\n",
       "    </tr>\n",
       "    <tr>\n",
       "      <th>1</th>\n",
       "      <td>Paris</td>\n",
       "      <td>7.29</td>\n",
       "      <td>93</td>\n",
       "      <td>Clouds</td>\n",
       "    </tr>\n",
       "    <tr>\n",
       "      <th>2</th>\n",
       "      <td>Tokyo</td>\n",
       "      <td>7.29</td>\n",
       "      <td>93</td>\n",
       "      <td>Clouds</td>\n",
       "    </tr>\n",
       "    <tr>\n",
       "      <th>3</th>\n",
       "      <td>London</td>\n",
       "      <td>7.29</td>\n",
       "      <td>93</td>\n",
       "      <td>Clouds</td>\n",
       "    </tr>\n",
       "    <tr>\n",
       "      <th>4</th>\n",
       "      <td>Sydney</td>\n",
       "      <td>7.29</td>\n",
       "      <td>93</td>\n",
       "      <td>Clouds</td>\n",
       "    </tr>\n",
       "    <tr>\n",
       "      <th>5</th>\n",
       "      <td>Beijing</td>\n",
       "      <td>7.29</td>\n",
       "      <td>93</td>\n",
       "      <td>Clouds</td>\n",
       "    </tr>\n",
       "    <tr>\n",
       "      <th>6</th>\n",
       "      <td>Moscow</td>\n",
       "      <td>7.29</td>\n",
       "      <td>93</td>\n",
       "      <td>Clouds</td>\n",
       "    </tr>\n",
       "    <tr>\n",
       "      <th>7</th>\n",
       "      <td>Dubai</td>\n",
       "      <td>7.29</td>\n",
       "      <td>93</td>\n",
       "      <td>Clouds</td>\n",
       "    </tr>\n",
       "    <tr>\n",
       "      <th>8</th>\n",
       "      <td>Singapore</td>\n",
       "      <td>7.29</td>\n",
       "      <td>93</td>\n",
       "      <td>Clouds</td>\n",
       "    </tr>\n",
       "    <tr>\n",
       "      <th>9</th>\n",
       "      <td>Toronto</td>\n",
       "      <td>7.29</td>\n",
       "      <td>93</td>\n",
       "      <td>Clouds</td>\n",
       "    </tr>\n",
       "    <tr>\n",
       "      <th>10</th>\n",
       "      <td>Mumbai</td>\n",
       "      <td>7.29</td>\n",
       "      <td>93</td>\n",
       "      <td>Clouds</td>\n",
       "    </tr>\n",
       "    <tr>\n",
       "      <th>11</th>\n",
       "      <td>Los Angeles</td>\n",
       "      <td>7.29</td>\n",
       "      <td>93</td>\n",
       "      <td>Clouds</td>\n",
       "    </tr>\n",
       "    <tr>\n",
       "      <th>12</th>\n",
       "      <td>San Fransisco</td>\n",
       "      <td>7.29</td>\n",
       "      <td>93</td>\n",
       "      <td>Clouds</td>\n",
       "    </tr>\n",
       "    <tr>\n",
       "      <th>13</th>\n",
       "      <td>Rome</td>\n",
       "      <td>7.29</td>\n",
       "      <td>93</td>\n",
       "      <td>Clouds</td>\n",
       "    </tr>\n",
       "    <tr>\n",
       "      <th>14</th>\n",
       "      <td>Miami</td>\n",
       "      <td>7.29</td>\n",
       "      <td>93</td>\n",
       "      <td>Clouds</td>\n",
       "    </tr>\n",
       "    <tr>\n",
       "      <th>15</th>\n",
       "      <td>Barcelona</td>\n",
       "      <td>7.29</td>\n",
       "      <td>93</td>\n",
       "      <td>Clouds</td>\n",
       "    </tr>\n",
       "    <tr>\n",
       "      <th>16</th>\n",
       "      <td>Berlin</td>\n",
       "      <td>7.29</td>\n",
       "      <td>93</td>\n",
       "      <td>Clouds</td>\n",
       "    </tr>\n",
       "    <tr>\n",
       "      <th>17</th>\n",
       "      <td>Amsterdam</td>\n",
       "      <td>7.29</td>\n",
       "      <td>93</td>\n",
       "      <td>Clouds</td>\n",
       "    </tr>\n",
       "    <tr>\n",
       "      <th>18</th>\n",
       "      <td>Vienna</td>\n",
       "      <td>7.29</td>\n",
       "      <td>93</td>\n",
       "      <td>Clouds</td>\n",
       "    </tr>\n",
       "    <tr>\n",
       "      <th>19</th>\n",
       "      <td>Zurich</td>\n",
       "      <td>7.29</td>\n",
       "      <td>93</td>\n",
       "      <td>Clouds</td>\n",
       "    </tr>\n",
       "  </tbody>\n",
       "</table>\n",
       "</div>"
      ],
      "text/plain": [
       "             City  Temperature  Humidity Precipitation\n",
       "0        New York         7.29        93        Clouds\n",
       "1           Paris         7.29        93        Clouds\n",
       "2           Tokyo         7.29        93        Clouds\n",
       "3          London         7.29        93        Clouds\n",
       "4          Sydney         7.29        93        Clouds\n",
       "5         Beijing         7.29        93        Clouds\n",
       "6          Moscow         7.29        93        Clouds\n",
       "7           Dubai         7.29        93        Clouds\n",
       "8       Singapore         7.29        93        Clouds\n",
       "9         Toronto         7.29        93        Clouds\n",
       "10         Mumbai         7.29        93        Clouds\n",
       "11    Los Angeles         7.29        93        Clouds\n",
       "12  San Fransisco         7.29        93        Clouds\n",
       "13           Rome         7.29        93        Clouds\n",
       "14          Miami         7.29        93        Clouds\n",
       "15      Barcelona         7.29        93        Clouds\n",
       "16         Berlin         7.29        93        Clouds\n",
       "17      Amsterdam         7.29        93        Clouds\n",
       "18         Vienna         7.29        93        Clouds\n",
       "19         Zurich         7.29        93        Clouds"
      ]
     },
     "execution_count": 9,
     "metadata": {},
     "output_type": "execute_result"
    }
   ],
   "source": [
    "df.head(20)"
   ]
  }
 ],
 "metadata": {
  "kernelspec": {
   "display_name": "Python (learn-env)",
   "language": "python",
   "name": "learn-env"
  },
  "language_info": {
   "codemirror_mode": {
    "name": "ipython",
    "version": 3
   },
   "file_extension": ".py",
   "mimetype": "text/x-python",
   "name": "python",
   "nbconvert_exporter": "python",
   "pygments_lexer": "ipython3",
   "version": "3.9.13"
  }
 },
 "nbformat": 4,
 "nbformat_minor": 5
}
